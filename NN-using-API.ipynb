{
 "cells": [
  {
   "cell_type": "code",
   "execution_count": 1,
   "metadata": {},
   "outputs": [],
   "source": [
    "from sklearn.datasets import load_wine"
   ]
  },
  {
   "cell_type": "code",
   "execution_count": 2,
   "metadata": {},
   "outputs": [],
   "source": [
    "wine_data = load_wine()"
   ]
  },
  {
   "cell_type": "code",
   "execution_count": 3,
   "metadata": {},
   "outputs": [
    {
     "data": {
      "text/plain": [
       "dict_keys(['data', 'target', 'target_names', 'DESCR', 'feature_names'])"
      ]
     },
     "execution_count": 3,
     "metadata": {},
     "output_type": "execute_result"
    }
   ],
   "source": [
    "wine_data.keys()"
   ]
  },
  {
   "cell_type": "code",
   "execution_count": 4,
   "metadata": {},
   "outputs": [],
   "source": [
    "df = wine_data['data']"
   ]
  },
  {
   "cell_type": "code",
   "execution_count": 5,
   "metadata": {},
   "outputs": [],
   "source": [
    "labels = wine_data['target']"
   ]
  },
  {
   "cell_type": "code",
   "execution_count": 6,
   "metadata": {},
   "outputs": [],
   "source": [
    "from sklearn.model_selection import train_test_split"
   ]
  },
  {
   "cell_type": "code",
   "execution_count": 7,
   "metadata": {},
   "outputs": [],
   "source": [
    "X_train, X_test, y_train, y_test=train_test_split(df,labels,\n",
    "                                                 test_size=0.3,\n",
    "                                                 random_state=101)"
   ]
  },
  {
   "cell_type": "code",
   "execution_count": 8,
   "metadata": {},
   "outputs": [],
   "source": [
    "from sklearn.preprocessing import MinMaxScaler"
   ]
  },
  {
   "cell_type": "code",
   "execution_count": 9,
   "metadata": {},
   "outputs": [],
   "source": [
    "scaler = MinMaxScaler()"
   ]
  },
  {
   "cell_type": "code",
   "execution_count": 10,
   "metadata": {},
   "outputs": [],
   "source": [
    "scaled_x_train = scaler.fit_transform(X_train)"
   ]
  },
  {
   "cell_type": "code",
   "execution_count": 11,
   "metadata": {},
   "outputs": [],
   "source": [
    "scaled_x_test = scaler.transform(X_test)"
   ]
  },
  {
   "cell_type": "markdown",
   "metadata": {},
   "source": [
    "## ESTIMATOR API"
   ]
  },
  {
   "cell_type": "code",
   "execution_count": 12,
   "metadata": {},
   "outputs": [
    {
     "name": "stderr",
     "output_type": "stream",
     "text": [
      "C:\\Users\\winuser\\Anaconda3\\lib\\site-packages\\h5py\\__init__.py:36: FutureWarning: Conversion of the second argument of issubdtype from `float` to `np.floating` is deprecated. In future, it will be treated as `np.float64 == np.dtype(float).type`.\n",
      "  from ._conv import register_converters as _register_converters\n"
     ]
    }
   ],
   "source": [
    "import tensorflow as tf"
   ]
  },
  {
   "cell_type": "code",
   "execution_count": 13,
   "metadata": {},
   "outputs": [],
   "source": [
    "from tensorflow import estimator"
   ]
  },
  {
   "cell_type": "code",
   "execution_count": 14,
   "metadata": {},
   "outputs": [
    {
     "data": {
      "text/plain": [
       "(124, 13)"
      ]
     },
     "execution_count": 14,
     "metadata": {},
     "output_type": "execute_result"
    }
   ],
   "source": [
    "X_train.shape"
   ]
  },
  {
   "cell_type": "code",
   "execution_count": 15,
   "metadata": {},
   "outputs": [],
   "source": [
    "# creating a list of numeric columns\n",
    "feat_cols = [tf.feature_column.numeric_column('x',shape=[13])]"
   ]
  },
  {
   "cell_type": "code",
   "execution_count": 16,
   "metadata": {},
   "outputs": [
    {
     "name": "stdout",
     "output_type": "stream",
     "text": [
      "[_NumericColumn(key='x', shape=(13,), default_value=None, dtype=tf.float32, normalizer_fn=None)]\n"
     ]
    }
   ],
   "source": [
    "print(feat_cols)"
   ]
  },
  {
   "cell_type": "code",
   "execution_count": 17,
   "metadata": {},
   "outputs": [
    {
     "name": "stdout",
     "output_type": "stream",
     "text": [
      "INFO:tensorflow:Using default config.\n",
      "WARNING:tensorflow:Using temporary folder as model directory: C:\\Users\\winuser\\AppData\\Local\\Temp\\tmpnlth6u7t\n",
      "INFO:tensorflow:Using config: {'_model_dir': 'C:\\\\Users\\\\winuser\\\\AppData\\\\Local\\\\Temp\\\\tmpnlth6u7t', '_tf_random_seed': None, '_save_summary_steps': 100, '_save_checkpoints_steps': None, '_save_checkpoints_secs': 600, '_session_config': None, '_keep_checkpoint_max': 5, '_keep_checkpoint_every_n_hours': 10000, '_log_step_count_steps': 100, '_train_distribute': None, '_device_fn': None, '_service': None, '_cluster_spec': <tensorflow.python.training.server_lib.ClusterSpec object at 0x000000000D5CBA20>, '_task_type': 'worker', '_task_id': 0, '_global_id_in_cluster': 0, '_master': '', '_evaluation_master': '', '_is_chief': True, '_num_ps_replicas': 0, '_num_worker_replicas': 1}\n"
     ]
    }
   ],
   "source": [
    "deep_model = estimator.DNNClassifier(hidden_units=[13,13,13],\n",
    "                                    feature_columns = feat_cols,\n",
    "                                    n_classes = 3,\n",
    "                                    optimizer = tf.train.GradientDescentOptimizer(learning_rate=0.01))"
   ]
  },
  {
   "cell_type": "code",
   "execution_count": 18,
   "metadata": {},
   "outputs": [],
   "source": [
    "input_fn = estimator.inputs.numpy_input_fn(x={'x':scaled_x_train},y=y_train,shuffle=True,\n",
    "                                          batch_size=10,num_epochs=5)"
   ]
  },
  {
   "cell_type": "code",
   "execution_count": 19,
   "metadata": {},
   "outputs": [
    {
     "name": "stdout",
     "output_type": "stream",
     "text": [
      "INFO:tensorflow:Calling model_fn.\n",
      "INFO:tensorflow:Done calling model_fn.\n",
      "INFO:tensorflow:Create CheckpointSaverHook.\n",
      "INFO:tensorflow:Graph was finalized.\n",
      "INFO:tensorflow:Running local_init_op.\n",
      "INFO:tensorflow:Done running local_init_op.\n",
      "INFO:tensorflow:Saving checkpoints for 0 into C:\\Users\\winuser\\AppData\\Local\\Temp\\tmpnlth6u7t\\model.ckpt.\n",
      "INFO:tensorflow:loss = 11.502136, step = 1\n",
      "INFO:tensorflow:Saving checkpoints for 62 into C:\\Users\\winuser\\AppData\\Local\\Temp\\tmpnlth6u7t\\model.ckpt.\n",
      "INFO:tensorflow:Loss for final step: 6.088574.\n"
     ]
    },
    {
     "data": {
      "text/plain": [
       "<tensorflow.python.estimator.canned.dnn.DNNClassifier at 0xd5cb898>"
      ]
     },
     "execution_count": 19,
     "metadata": {},
     "output_type": "execute_result"
    }
   ],
   "source": [
    "deep_model.train(input_fn=input_fn,steps=500)"
   ]
  },
  {
   "cell_type": "code",
   "execution_count": 20,
   "metadata": {},
   "outputs": [],
   "source": [
    "input_fn_eval = estimator.inputs.numpy_input_fn(x={'x':scaled_x_test},shuffle=False)"
   ]
  },
  {
   "cell_type": "code",
   "execution_count": 21,
   "metadata": {},
   "outputs": [
    {
     "name": "stdout",
     "output_type": "stream",
     "text": [
      "INFO:tensorflow:Calling model_fn.\n",
      "INFO:tensorflow:Done calling model_fn.\n",
      "INFO:tensorflow:Graph was finalized.\n",
      "INFO:tensorflow:Restoring parameters from C:\\Users\\winuser\\AppData\\Local\\Temp\\tmpnlth6u7t\\model.ckpt-62\n",
      "INFO:tensorflow:Running local_init_op.\n",
      "INFO:tensorflow:Done running local_init_op.\n"
     ]
    }
   ],
   "source": [
    "preds = list(deep_model.predict(input_fn=input_fn_eval))"
   ]
  },
  {
   "cell_type": "code",
   "execution_count": 22,
   "metadata": {},
   "outputs": [],
   "source": [
    "predictions = [p['class_ids'][0] for p in preds]\n"
   ]
  },
  {
   "cell_type": "code",
   "execution_count": 23,
   "metadata": {},
   "outputs": [],
   "source": [
    "from sklearn.metrics import classification_report"
   ]
  },
  {
   "cell_type": "code",
   "execution_count": 24,
   "metadata": {},
   "outputs": [
    {
     "name": "stdout",
     "output_type": "stream",
     "text": [
      "             precision    recall  f1-score   support\n",
      "\n",
      "          0       0.73      1.00      0.84        19\n",
      "          1       0.68      0.68      0.68        22\n",
      "          2       1.00      0.46      0.63        13\n",
      "\n",
      "avg / total       0.78      0.74      0.73        54\n",
      "\n"
     ]
    }
   ],
   "source": [
    "print(classification_report(y_test,predictions))"
   ]
  },
  {
   "cell_type": "markdown",
   "metadata": {},
   "source": [
    "## KERAS API\n"
   ]
  },
  {
   "cell_type": "code",
   "execution_count": 25,
   "metadata": {},
   "outputs": [],
   "source": [
    "\n",
    "import tensorflow as tf"
   ]
  },
  {
   "cell_type": "code",
   "execution_count": 26,
   "metadata": {},
   "outputs": [],
   "source": [
    "from tensorflow.contrib.keras import models"
   ]
  },
  {
   "cell_type": "code",
   "execution_count": 27,
   "metadata": {},
   "outputs": [],
   "source": [
    "dnn_keras_model = models.Sequential()"
   ]
  },
  {
   "cell_type": "code",
   "execution_count": 28,
   "metadata": {},
   "outputs": [],
   "source": [
    "from tensorflow.contrib.keras import layers"
   ]
  },
  {
   "cell_type": "code",
   "execution_count": 29,
   "metadata": {},
   "outputs": [],
   "source": [
    "dnn_keras_model.add(layers.Dense(units=13,input_dim=13,activation='relu'))"
   ]
  },
  {
   "cell_type": "code",
   "execution_count": 30,
   "metadata": {},
   "outputs": [],
   "source": [
    "dnn_keras_model.add(layers.Dense(units=13,activation='relu'))\n",
    "dnn_keras_model.add(layers.Dense(units=13,activation='relu'))"
   ]
  },
  {
   "cell_type": "code",
   "execution_count": 31,
   "metadata": {},
   "outputs": [],
   "source": [
    "dnn_keras_model.add(layers.Dense(units=3,activation='softmax'))"
   ]
  },
  {
   "cell_type": "code",
   "execution_count": 32,
   "metadata": {},
   "outputs": [],
   "source": [
    "from tensorflow.contrib.keras import losses,optimizers,activations"
   ]
  },
  {
   "cell_type": "code",
   "execution_count": 33,
   "metadata": {},
   "outputs": [],
   "source": [
    "dnn_keras_model.compile(optimizer='adam',\n",
    "                        loss='sparse_categorical_crossentropy',#if data is not one hot encoded, if it is one hot encode us categorical_crossentropy\n",
    "                        metrics=['accuracy'])"
   ]
  },
  {
   "cell_type": "code",
   "execution_count": 34,
   "metadata": {},
   "outputs": [
    {
     "name": "stdout",
     "output_type": "stream",
     "text": [
      "Epoch 1/50\n",
      "124/124 [==============================] - 0s 4ms/step - loss: 1.1302 - acc: 0.1210\n",
      "Epoch 2/50\n",
      "124/124 [==============================] - 0s 56us/step - loss: 1.1171 - acc: 0.2581\n",
      "Epoch 3/50\n",
      "124/124 [==============================] - 0s 48us/step - loss: 1.1071 - acc: 0.3548\n",
      "Epoch 4/50\n",
      "124/124 [==============================] - 0s 65us/step - loss: 1.0980 - acc: 0.3952\n",
      "Epoch 5/50\n",
      "124/124 [==============================] - 0s 40us/step - loss: 1.0880 - acc: 0.4435\n",
      "Epoch 6/50\n",
      "124/124 [==============================] - 0s 48us/step - loss: 1.0780 - acc: 0.5000\n",
      "Epoch 7/50\n",
      "124/124 [==============================] - 0s 81us/step - loss: 1.0681 - acc: 0.5565\n",
      "Epoch 8/50\n",
      "124/124 [==============================] - 0s 48us/step - loss: 1.0580 - acc: 0.6129\n",
      "Epoch 9/50\n",
      "124/124 [==============================] - 0s 40us/step - loss: 1.0471 - acc: 0.6452\n",
      "Epoch 10/50\n",
      "124/124 [==============================] - 0s 81us/step - loss: 1.0364 - acc: 0.6452\n",
      "Epoch 11/50\n",
      "124/124 [==============================] - 0s 56us/step - loss: 1.0249 - acc: 0.6532\n",
      "Epoch 12/50\n",
      "124/124 [==============================] - 0s 73us/step - loss: 1.0128 - acc: 0.6935\n",
      "Epoch 13/50\n",
      "124/124 [==============================] - 0s 56us/step - loss: 0.9997 - acc: 0.7258\n",
      "Epoch 14/50\n",
      "124/124 [==============================] - 0s 40us/step - loss: 0.9857 - acc: 0.7258\n",
      "Epoch 15/50\n",
      "124/124 [==============================] - 0s 89us/step - loss: 0.9710 - acc: 0.7419\n",
      "Epoch 16/50\n",
      "124/124 [==============================] - 0s 48us/step - loss: 0.9546 - acc: 0.7500\n",
      "Epoch 17/50\n",
      "124/124 [==============================] - 0s 40us/step - loss: 0.9374 - acc: 0.7500\n",
      "Epoch 18/50\n",
      "124/124 [==============================] - 0s 48us/step - loss: 0.9192 - acc: 0.7581\n",
      "Epoch 19/50\n",
      "124/124 [==============================] - 0s 89us/step - loss: 0.9007 - acc: 0.7581\n",
      "Epoch 20/50\n",
      "124/124 [==============================] - 0s 56us/step - loss: 0.8799 - acc: 0.7823\n",
      "Epoch 21/50\n",
      "124/124 [==============================] - 0s 48us/step - loss: 0.8581 - acc: 0.7823\n",
      "Epoch 22/50\n",
      "124/124 [==============================] - 0s 56us/step - loss: 0.8366 - acc: 0.8145\n",
      "Epoch 23/50\n",
      "124/124 [==============================] - 0s 56us/step - loss: 0.8136 - acc: 0.8306\n",
      "Epoch 24/50\n",
      "124/124 [==============================] - 0s 65us/step - loss: 0.7895 - acc: 0.8387\n",
      "Epoch 25/50\n",
      "124/124 [==============================] - 0s 48us/step - loss: 0.7657 - acc: 0.8306\n",
      "Epoch 26/50\n",
      "124/124 [==============================] - 0s 89us/step - loss: 0.7416 - acc: 0.8306\n",
      "Epoch 27/50\n",
      "124/124 [==============================] - 0s 48us/step - loss: 0.7181 - acc: 0.8145\n",
      "Epoch 28/50\n",
      "124/124 [==============================] - 0s 48us/step - loss: 0.6941 - acc: 0.8387\n",
      "Epoch 29/50\n",
      "124/124 [==============================] - 0s 40us/step - loss: 0.6709 - acc: 0.8387\n",
      "Epoch 30/50\n",
      "124/124 [==============================] - 0s 81us/step - loss: 0.6474 - acc: 0.8468\n",
      "Epoch 31/50\n",
      "124/124 [==============================] - 0s 40us/step - loss: 0.6260 - acc: 0.8790\n",
      "Epoch 32/50\n",
      "124/124 [==============================] - 0s 65us/step - loss: 0.6030 - acc: 0.8790\n",
      "Epoch 33/50\n",
      "124/124 [==============================] - 0s 65us/step - loss: 0.5813 - acc: 0.8952\n",
      "Epoch 34/50\n",
      "124/124 [==============================] - 0s 40us/step - loss: 0.5610 - acc: 0.8952\n",
      "Epoch 35/50\n",
      "124/124 [==============================] - 0s 65us/step - loss: 0.5402 - acc: 0.8871\n",
      "Epoch 36/50\n",
      "124/124 [==============================] - 0s 48us/step - loss: 0.5210 - acc: 0.8871\n",
      "Epoch 37/50\n",
      "124/124 [==============================] - 0s 97us/step - loss: 0.5022 - acc: 0.8871\n",
      "Epoch 38/50\n",
      "124/124 [==============================] - 0s 48us/step - loss: 0.4845 - acc: 0.8952\n",
      "Epoch 39/50\n",
      "124/124 [==============================] - 0s 40us/step - loss: 0.4672 - acc: 0.9032\n",
      "Epoch 40/50\n",
      "124/124 [==============================] - 0s 48us/step - loss: 0.4494 - acc: 0.9032\n",
      "Epoch 41/50\n",
      "124/124 [==============================] - 0s 105us/step - loss: 0.4330 - acc: 0.9113\n",
      "Epoch 42/50\n",
      "124/124 [==============================] - 0s 65us/step - loss: 0.4179 - acc: 0.9113\n",
      "Epoch 43/50\n",
      "124/124 [==============================] - 0s 48us/step - loss: 0.4017 - acc: 0.8952\n",
      "Epoch 44/50\n",
      "124/124 [==============================] - 0s 65us/step - loss: 0.3853 - acc: 0.8952\n",
      "Epoch 45/50\n",
      "124/124 [==============================] - 0s 65us/step - loss: 0.3706 - acc: 0.9113\n",
      "Epoch 46/50\n",
      "124/124 [==============================] - 0s 40us/step - loss: 0.3559 - acc: 0.9113\n",
      "Epoch 47/50\n",
      "124/124 [==============================] - 0s 48us/step - loss: 0.3399 - acc: 0.9194\n",
      "Epoch 48/50\n",
      "124/124 [==============================] - 0s 65us/step - loss: 0.3251 - acc: 0.9194\n",
      "Epoch 49/50\n",
      "124/124 [==============================] - 0s 48us/step - loss: 0.3105 - acc: 0.9194\n",
      "Epoch 50/50\n",
      "124/124 [==============================] - 0s 48us/step - loss: 0.2954 - acc: 0.9194\n"
     ]
    },
    {
     "data": {
      "text/plain": [
       "<tensorflow.python.keras.callbacks.History at 0x11f245c0>"
      ]
     },
     "execution_count": 34,
     "metadata": {},
     "output_type": "execute_result"
    }
   ],
   "source": [
    "dnn_keras_model.fit(scaled_x_train,y_train,epochs=50)"
   ]
  },
  {
   "cell_type": "code",
   "execution_count": 35,
   "metadata": {},
   "outputs": [],
   "source": [
    "predictions = dnn_keras_model.predict_classes(scaled_x_test)"
   ]
  },
  {
   "cell_type": "code",
   "execution_count": 36,
   "metadata": {},
   "outputs": [],
   "source": [
    "from sklearn.metrics import classification_report"
   ]
  },
  {
   "cell_type": "code",
   "execution_count": 37,
   "metadata": {},
   "outputs": [
    {
     "name": "stdout",
     "output_type": "stream",
     "text": [
      "             precision    recall  f1-score   support\n",
      "\n",
      "          0       0.89      0.89      0.89        19\n",
      "          1       0.86      0.90      0.88        21\n",
      "          2       1.00      0.93      0.96        14\n",
      "\n",
      "avg / total       0.91      0.91      0.91        54\n",
      "\n"
     ]
    }
   ],
   "source": [
    "print(classification_report(predictions,y_test))"
   ]
  },
  {
   "cell_type": "markdown",
   "metadata": {},
   "source": [
    "## LAYERS API"
   ]
  },
  {
   "cell_type": "code",
   "execution_count": 38,
   "metadata": {},
   "outputs": [],
   "source": [
    "import tensorflow as tf"
   ]
  },
  {
   "cell_type": "code",
   "execution_count": 39,
   "metadata": {},
   "outputs": [],
   "source": [
    "import pandas as pd"
   ]
  },
  {
   "cell_type": "code",
   "execution_count": 40,
   "metadata": {},
   "outputs": [
    {
     "name": "stderr",
     "output_type": "stream",
     "text": [
      "C:\\Users\\winuser\\Anaconda3\\lib\\site-packages\\ipykernel_launcher.py:1: FutureWarning: Method .as_matrix will be removed in a future version. Use .values instead.\n",
      "  \"\"\"Entry point for launching an IPython kernel.\n"
     ]
    }
   ],
   "source": [
    "onehot_y_train = pd.get_dummies(y_train).as_matrix()"
   ]
  },
  {
   "cell_type": "code",
   "execution_count": 41,
   "metadata": {},
   "outputs": [
    {
     "name": "stderr",
     "output_type": "stream",
     "text": [
      "C:\\Users\\winuser\\Anaconda3\\lib\\site-packages\\ipykernel_launcher.py:1: FutureWarning: Method .as_matrix will be removed in a future version. Use .values instead.\n",
      "  \"\"\"Entry point for launching an IPython kernel.\n"
     ]
    }
   ],
   "source": [
    "onehot_y_test = pd.get_dummies(y_test).as_matrix()"
   ]
  },
  {
   "cell_type": "code",
   "execution_count": 42,
   "metadata": {},
   "outputs": [],
   "source": [
    "num_feat = 13\n",
    "num_hidden1 = 13\n",
    "num_hidden2 =13\n",
    "num_output = 3"
   ]
  },
  {
   "cell_type": "code",
   "execution_count": 43,
   "metadata": {},
   "outputs": [],
   "source": [
    "learning_rate = 0.01"
   ]
  },
  {
   "cell_type": "code",
   "execution_count": 44,
   "metadata": {},
   "outputs": [],
   "source": [
    "from tensorflow.contrib.layers import fully_connected"
   ]
  },
  {
   "cell_type": "code",
   "execution_count": 45,
   "metadata": {},
   "outputs": [],
   "source": [
    "X = tf.placeholder(tf.float32,shape=[None,num_feat])"
   ]
  },
  {
   "cell_type": "code",
   "execution_count": 46,
   "metadata": {},
   "outputs": [],
   "source": [
    "y_true = tf.placeholder(tf.float32,shape=[None,3])"
   ]
  },
  {
   "cell_type": "code",
   "execution_count": 47,
   "metadata": {},
   "outputs": [],
   "source": [
    "actf = tf.nn.relu"
   ]
  },
  {
   "cell_type": "code",
   "execution_count": 48,
   "metadata": {},
   "outputs": [],
   "source": [
    "hidden1 = fully_connected(X,num_hidden1,activation_fn=actf)"
   ]
  },
  {
   "cell_type": "code",
   "execution_count": 49,
   "metadata": {},
   "outputs": [],
   "source": [
    "hidden2 = fully_connected(hidden1,num_hidden2,activation_fn=actf)"
   ]
  },
  {
   "cell_type": "code",
   "execution_count": 50,
   "metadata": {},
   "outputs": [],
   "source": [
    "\n",
    "output = fully_connected(hidden2,num_output)"
   ]
  },
  {
   "cell_type": "code",
   "execution_count": 51,
   "metadata": {},
   "outputs": [],
   "source": [
    "loss = tf.losses.softmax_cross_entropy(onehot_labels=y_true,logits=output)"
   ]
  },
  {
   "cell_type": "code",
   "execution_count": 52,
   "metadata": {},
   "outputs": [],
   "source": [
    "optimizer = tf.train.AdamOptimizer(learning_rate=learning_rate)"
   ]
  },
  {
   "cell_type": "code",
   "execution_count": 53,
   "metadata": {},
   "outputs": [],
   "source": [
    "train = optimizer.minimize(loss)"
   ]
  },
  {
   "cell_type": "code",
   "execution_count": 54,
   "metadata": {},
   "outputs": [],
   "source": [
    "init = tf.global_variables_initializer()"
   ]
  },
  {
   "cell_type": "code",
   "execution_count": 55,
   "metadata": {},
   "outputs": [],
   "source": [
    "training_steps = 2"
   ]
  },
  {
   "cell_type": "code",
   "execution_count": 56,
   "metadata": {},
   "outputs": [],
   "source": [
    "with tf.Session() as sess:\n",
    "    sess.run(init)\n",
    "    for i in range(training_steps):\n",
    "        sess.run(train,feed_dict={X:scaled_x_train,y_true:onehot_y_train})\n",
    "        \n",
    "    logits = output.eval(feed_dict={X:scaled_x_test})\n",
    "    \n",
    "    preds = tf.argmax(logits,axis=1)\n",
    "    \n",
    "    results = preds.eval()"
   ]
  },
  {
   "cell_type": "code",
   "execution_count": 57,
   "metadata": {},
   "outputs": [],
   "source": [
    "from sklearn.metrics import classification_report"
   ]
  },
  {
   "cell_type": "code",
   "execution_count": 58,
   "metadata": {},
   "outputs": [
    {
     "name": "stdout",
     "output_type": "stream",
     "text": [
      "             precision    recall  f1-score   support\n",
      "\n",
      "          0       1.00      0.50      0.67        38\n",
      "          1       0.00      0.00      0.00         0\n",
      "          2       0.92      0.75      0.83        16\n",
      "\n",
      "avg / total       0.98      0.57      0.71        54\n",
      "\n"
     ]
    },
    {
     "name": "stderr",
     "output_type": "stream",
     "text": [
      "C:\\Users\\winuser\\Anaconda3\\lib\\site-packages\\sklearn\\metrics\\classification.py:1137: UndefinedMetricWarning: Recall and F-score are ill-defined and being set to 0.0 in labels with no true samples.\n",
      "  'recall', 'true', average, warn_for)\n"
     ]
    }
   ],
   "source": [
    "print(classification_report(results,y_test))"
   ]
  },
  {
   "cell_type": "markdown",
   "metadata": {},
   "source": [
    "### whenever we get 100 percent accuracy just to assure our model is actually a model skew some parameter like reduce training steps and check model performance"
   ]
  }
 ],
 "metadata": {
  "kernelspec": {
   "display_name": "Python 3",
   "language": "python",
   "name": "python3"
  },
  "language_info": {
   "codemirror_mode": {
    "name": "ipython",
    "version": 3
   },
   "file_extension": ".py",
   "mimetype": "text/x-python",
   "name": "python",
   "nbconvert_exporter": "python",
   "pygments_lexer": "ipython3",
   "version": "3.6.5"
  }
 },
 "nbformat": 4,
 "nbformat_minor": 2
}
